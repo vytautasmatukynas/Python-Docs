{
 "cells": [
  {
   "cell_type": "code",
   "id": "311c49aaf1414b0a",
   "metadata": {
    "collapsed": true,
    "ExecuteTime": {
     "end_time": "2024-08-04T13:36:22.337507Z",
     "start_time": "2024-08-04T13:36:22.333800Z"
    }
   },
   "source": [
    "import torch\n",
    "\n",
    "print(torch.__version__)"
   ],
   "outputs": [
    {
     "name": "stdout",
     "output_type": "stream",
     "text": [
      "2.4.0+cpu\n"
     ]
    }
   ],
   "execution_count": 116
  },
  {
   "metadata": {},
   "cell_type": "markdown",
   "source": [
    "Tensor Types and Basic Functions\n",
    "\n",
    "Pytorch tensors created - \"torch.tensor\"\n",
    "\n",
    "Scalar: Single number (quantity and value).\n",
    "Vector: 1D array of values (has direction and magnitude).\n",
    "Matrix: 2D array of values (rows and columns).\n",
    "Tensor: Multi-dimensional array of values (more than 2 dimensions).\n",
    "\n",
    "LT -> Skalaras: Vienas skaičius (kiekis ir reikšmė).\n",
    "Vektorius: Vienmatė reikšmių seka (turi kryptį ir dydį).\n",
    "Matricos: Dvimatė reikšmių lentelė (iš eilių ir stulpelių).\n",
    "Tenzorius: Daugiamatė reikšmių lentelė (n > 2 dimensijos)."
   ],
   "id": "14566fa18fc28704"
  },
  {
   "metadata": {
    "ExecuteTime": {
     "end_time": "2024-08-04T13:36:22.533772Z",
     "start_time": "2024-08-04T13:36:22.527162Z"
    }
   },
   "cell_type": "code",
   "source": [
    "# Scalar\n",
    "scalar = torch.tensor(8)\n",
    "scalar"
   ],
   "id": "bd9b0c1827f3efac",
   "outputs": [
    {
     "data": {
      "text/plain": [
       "tensor(8)"
      ]
     },
     "execution_count": 117,
     "metadata": {},
     "output_type": "execute_result"
    }
   ],
   "execution_count": 117
  },
  {
   "metadata": {
    "ExecuteTime": {
     "end_time": "2024-08-04T13:36:22.556216Z",
     "start_time": "2024-08-04T13:36:22.551779Z"
    }
   },
   "cell_type": "code",
   "source": [
    "# How many dimension scalar haves\n",
    "scalar.ndim"
   ],
   "id": "385b4b65c8c00b60",
   "outputs": [
    {
     "data": {
      "text/plain": [
       "0"
      ]
     },
     "execution_count": 118,
     "metadata": {},
     "output_type": "execute_result"
    }
   ],
   "execution_count": 118
  },
  {
   "metadata": {
    "ExecuteTime": {
     "end_time": "2024-08-04T13:36:22.579127Z",
     "start_time": "2024-08-04T13:36:22.574268Z"
    }
   },
   "cell_type": "code",
   "source": [
    "# Checking the shape of scalar -> shows all lists and how many items is there in list, because scalar doesn't have list just one item, that's why it is empty\n",
    "scalar.shape"
   ],
   "id": "72798fb41e0126e3",
   "outputs": [
    {
     "data": {
      "text/plain": [
       "torch.Size([])"
      ]
     },
     "execution_count": 119,
     "metadata": {},
     "output_type": "execute_result"
    }
   ],
   "execution_count": 119
  },
  {
   "metadata": {
    "ExecuteTime": {
     "end_time": "2024-08-04T13:36:22.632128Z",
     "start_time": "2024-08-04T13:36:22.626601Z"
    }
   },
   "cell_type": "code",
   "source": "scalar.size()",
   "id": "6a99d30fb0d5f1e0",
   "outputs": [
    {
     "data": {
      "text/plain": [
       "torch.Size([])"
      ]
     },
     "execution_count": 120,
     "metadata": {},
     "output_type": "execute_result"
    }
   ],
   "execution_count": 120
  },
  {
   "metadata": {
    "ExecuteTime": {
     "end_time": "2024-08-04T13:36:22.650746Z",
     "start_time": "2024-08-04T13:36:22.645947Z"
    }
   },
   "cell_type": "code",
   "source": [
    "# Get tensor back as a standard Python number\n",
    "scalar.item()"
   ],
   "id": "c1c371e575d257a9",
   "outputs": [
    {
     "data": {
      "text/plain": [
       "8"
      ]
     },
     "execution_count": 121,
     "metadata": {},
     "output_type": "execute_result"
    }
   ],
   "execution_count": 121
  },
  {
   "metadata": {
    "ExecuteTime": {
     "end_time": "2024-08-04T13:36:22.686713Z",
     "start_time": "2024-08-04T13:36:22.681907Z"
    }
   },
   "cell_type": "code",
   "source": [
    "# Tensor data types\n",
    "scalar.dtype"
   ],
   "id": "a27bdc12b569d7f9",
   "outputs": [
    {
     "data": {
      "text/plain": [
       "torch.int64"
      ]
     },
     "execution_count": 122,
     "metadata": {},
     "output_type": "execute_result"
    }
   ],
   "execution_count": 122
  },
  {
   "metadata": {
    "ExecuteTime": {
     "end_time": "2024-08-04T13:36:22.739130Z",
     "start_time": "2024-08-04T13:36:22.734216Z"
    }
   },
   "cell_type": "code",
   "source": [
    "# Vector\n",
    "vector = torch.tensor([1, 2, 3, 4, 5])\n",
    "vector"
   ],
   "id": "566f4c53c41b62b6",
   "outputs": [
    {
     "data": {
      "text/plain": [
       "tensor([1, 2, 3, 4, 5])"
      ]
     },
     "execution_count": 123,
     "metadata": {},
     "output_type": "execute_result"
    }
   ],
   "execution_count": 123
  },
  {
   "metadata": {
    "ExecuteTime": {
     "end_time": "2024-08-04T13:36:22.797204Z",
     "start_time": "2024-08-04T13:36:22.792758Z"
    }
   },
   "cell_type": "code",
   "source": [
    "# How many dimension vector haves\n",
    "vector.ndim"
   ],
   "id": "870c3203c7af914c",
   "outputs": [
    {
     "data": {
      "text/plain": [
       "1"
      ]
     },
     "execution_count": 124,
     "metadata": {},
     "output_type": "execute_result"
    }
   ],
   "execution_count": 124
  },
  {
   "metadata": {
    "ExecuteTime": {
     "end_time": "2024-08-04T13:36:22.816051Z",
     "start_time": "2024-08-04T13:36:22.810211Z"
    }
   },
   "cell_type": "code",
   "source": [
    "# Checking the shape of vector -> shows all lists and how many items is there in list\n",
    "vector.shape"
   ],
   "id": "8d75547f12c18a7b",
   "outputs": [
    {
     "data": {
      "text/plain": [
       "torch.Size([5])"
      ]
     },
     "execution_count": 125,
     "metadata": {},
     "output_type": "execute_result"
    }
   ],
   "execution_count": 125
  },
  {
   "metadata": {
    "ExecuteTime": {
     "end_time": "2024-08-04T13:36:22.842175Z",
     "start_time": "2024-08-04T13:36:22.837058Z"
    }
   },
   "cell_type": "code",
   "source": "vector.size()",
   "id": "99b9d65894cf475a",
   "outputs": [
    {
     "data": {
      "text/plain": [
       "torch.Size([5])"
      ]
     },
     "execution_count": 126,
     "metadata": {},
     "output_type": "execute_result"
    }
   ],
   "execution_count": 126
  },
  {
   "metadata": {
    "ExecuteTime": {
     "end_time": "2024-08-04T13:36:22.878027Z",
     "start_time": "2024-08-04T13:36:22.873230Z"
    }
   },
   "cell_type": "code",
   "source": [
    "# Tensor data types\n",
    "vector.dtype"
   ],
   "id": "6e889d1ee6b978db",
   "outputs": [
    {
     "data": {
      "text/plain": [
       "torch.int64"
      ]
     },
     "execution_count": 127,
     "metadata": {},
     "output_type": "execute_result"
    }
   ],
   "execution_count": 127
  },
  {
   "metadata": {
    "ExecuteTime": {
     "end_time": "2024-08-04T13:36:22.898133Z",
     "start_time": "2024-08-04T13:36:22.892603Z"
    }
   },
   "cell_type": "code",
   "source": [
    "# Get vector elements by index\n",
    "vector[0]"
   ],
   "id": "f009c664e476fb73",
   "outputs": [
    {
     "data": {
      "text/plain": [
       "tensor(1)"
      ]
     },
     "execution_count": 128,
     "metadata": {},
     "output_type": "execute_result"
    }
   ],
   "execution_count": 128
  },
  {
   "metadata": {
    "ExecuteTime": {
     "end_time": "2024-08-04T13:36:22.930740Z",
     "start_time": "2024-08-04T13:36:22.924141Z"
    }
   },
   "cell_type": "code",
   "source": "vector[0:2]",
   "id": "80987fc502305547",
   "outputs": [
    {
     "data": {
      "text/plain": [
       "tensor([1, 2])"
      ]
     },
     "execution_count": 129,
     "metadata": {},
     "output_type": "execute_result"
    }
   ],
   "execution_count": 129
  },
  {
   "metadata": {
    "ExecuteTime": {
     "end_time": "2024-08-04T13:36:22.948706Z",
     "start_time": "2024-08-04T13:36:22.941749Z"
    }
   },
   "cell_type": "code",
   "source": [
    "# Matrix\n",
    "MATRIX = torch.tensor([[1, 2, 3, 4, 5], \n",
    "                       [1, 2, 3, 4, 5]])\n",
    "MATRIX"
   ],
   "id": "bdfae36ca74c482c",
   "outputs": [
    {
     "data": {
      "text/plain": [
       "tensor([[1, 2, 3, 4, 5],\n",
       "        [1, 2, 3, 4, 5]])"
      ]
     },
     "execution_count": 130,
     "metadata": {},
     "output_type": "execute_result"
    }
   ],
   "execution_count": 130
  },
  {
   "metadata": {
    "ExecuteTime": {
     "end_time": "2024-08-04T13:36:22.981406Z",
     "start_time": "2024-08-04T13:36:22.975720Z"
    }
   },
   "cell_type": "code",
   "source": [
    "# How many dimension matrix haves\n",
    "MATRIX.ndim"
   ],
   "id": "578a0ee11ba14fd2",
   "outputs": [
    {
     "data": {
      "text/plain": [
       "2"
      ]
     },
     "execution_count": 131,
     "metadata": {},
     "output_type": "execute_result"
    }
   ],
   "execution_count": 131
  },
  {
   "metadata": {
    "ExecuteTime": {
     "end_time": "2024-08-04T13:36:23.019227Z",
     "start_time": "2024-08-04T13:36:23.013450Z"
    }
   },
   "cell_type": "code",
   "source": [
    "# Checking the shape of vector -> shows all lists and how many items is there in list\n",
    "MATRIX.shape"
   ],
   "id": "e609a9af18a274f5",
   "outputs": [
    {
     "data": {
      "text/plain": [
       "torch.Size([2, 5])"
      ]
     },
     "execution_count": 132,
     "metadata": {},
     "output_type": "execute_result"
    }
   ],
   "execution_count": 132
  },
  {
   "metadata": {
    "ExecuteTime": {
     "end_time": "2024-08-04T13:36:23.068675Z",
     "start_time": "2024-08-04T13:36:23.063237Z"
    }
   },
   "cell_type": "code",
   "source": "MATRIX.size()",
   "id": "9422430eafb67345",
   "outputs": [
    {
     "data": {
      "text/plain": [
       "torch.Size([2, 5])"
      ]
     },
     "execution_count": 133,
     "metadata": {},
     "output_type": "execute_result"
    }
   ],
   "execution_count": 133
  },
  {
   "metadata": {
    "ExecuteTime": {
     "end_time": "2024-08-04T13:36:23.105918Z",
     "start_time": "2024-08-04T13:36:23.101146Z"
    }
   },
   "cell_type": "code",
   "source": [
    "# Tensor data types\n",
    "MATRIX.dtype"
   ],
   "id": "30c241706d3b9347",
   "outputs": [
    {
     "data": {
      "text/plain": [
       "torch.int64"
      ]
     },
     "execution_count": 134,
     "metadata": {},
     "output_type": "execute_result"
    }
   ],
   "execution_count": 134
  },
  {
   "metadata": {
    "ExecuteTime": {
     "end_time": "2024-08-04T13:36:23.125018Z",
     "start_time": "2024-08-04T13:36:23.119925Z"
    }
   },
   "cell_type": "code",
   "source": [
    "# Get matrix elements by index\n",
    "MATRIX[0]"
   ],
   "id": "d8fbcaa90fbb2984",
   "outputs": [
    {
     "data": {
      "text/plain": [
       "tensor([1, 2, 3, 4, 5])"
      ]
     },
     "execution_count": 135,
     "metadata": {},
     "output_type": "execute_result"
    }
   ],
   "execution_count": 135
  },
  {
   "metadata": {
    "ExecuteTime": {
     "end_time": "2024-08-04T13:36:23.154697Z",
     "start_time": "2024-08-04T13:36:23.150172Z"
    }
   },
   "cell_type": "code",
   "source": "MATRIX[0][1]",
   "id": "4183ac1c9636082f",
   "outputs": [
    {
     "data": {
      "text/plain": [
       "tensor(2)"
      ]
     },
     "execution_count": 136,
     "metadata": {},
     "output_type": "execute_result"
    }
   ],
   "execution_count": 136
  },
  {
   "metadata": {
    "ExecuteTime": {
     "end_time": "2024-08-04T13:36:23.186900Z",
     "start_time": "2024-08-04T13:36:23.179589Z"
    }
   },
   "cell_type": "code",
   "source": [
    "# Tensor\n",
    "TENSOR = torch.tensor([[[1, 2, 3, 4, 5], [1, 2, 3, 4, 5]], [[1, 2, 3, 4, 5], [1, 2, 3, 4, 5]]])\n",
    "TENSOR"
   ],
   "id": "245895e30bf67bf6",
   "outputs": [
    {
     "data": {
      "text/plain": [
       "tensor([[[1, 2, 3, 4, 5],\n",
       "         [1, 2, 3, 4, 5]],\n",
       "\n",
       "        [[1, 2, 3, 4, 5],\n",
       "         [1, 2, 3, 4, 5]]])"
      ]
     },
     "execution_count": 137,
     "metadata": {},
     "output_type": "execute_result"
    }
   ],
   "execution_count": 137
  },
  {
   "metadata": {
    "ExecuteTime": {
     "end_time": "2024-08-04T13:36:23.211548Z",
     "start_time": "2024-08-04T13:36:23.206910Z"
    }
   },
   "cell_type": "code",
   "source": [
    "# How many dimension tensor haves\n",
    "TENSOR.ndim"
   ],
   "id": "267ba8fa86562d26",
   "outputs": [
    {
     "data": {
      "text/plain": [
       "3"
      ]
     },
     "execution_count": 138,
     "metadata": {},
     "output_type": "execute_result"
    }
   ],
   "execution_count": 138
  },
  {
   "metadata": {
    "ExecuteTime": {
     "end_time": "2024-08-04T13:36:23.242808Z",
     "start_time": "2024-08-04T13:36:23.230709Z"
    }
   },
   "cell_type": "code",
   "source": [
    "# Checking the shape of tensor -> shows all lists and how many items is there in list\n",
    "TENSOR.shape"
   ],
   "id": "8adea5f2a86551b2",
   "outputs": [
    {
     "data": {
      "text/plain": [
       "torch.Size([2, 2, 5])"
      ]
     },
     "execution_count": 139,
     "metadata": {},
     "output_type": "execute_result"
    }
   ],
   "execution_count": 139
  },
  {
   "metadata": {
    "ExecuteTime": {
     "end_time": "2024-08-04T13:36:23.294031Z",
     "start_time": "2024-08-04T13:36:23.289987Z"
    }
   },
   "cell_type": "code",
   "source": "TENSOR.size()",
   "id": "d48a693cd701bb8b",
   "outputs": [
    {
     "data": {
      "text/plain": [
       "torch.Size([2, 2, 5])"
      ]
     },
     "execution_count": 140,
     "metadata": {},
     "output_type": "execute_result"
    }
   ],
   "execution_count": 140
  },
  {
   "metadata": {
    "ExecuteTime": {
     "end_time": "2024-08-04T13:36:23.329096Z",
     "start_time": "2024-08-04T13:36:23.324227Z"
    }
   },
   "cell_type": "code",
   "source": [
    "# Tensor data types\n",
    "TENSOR.dtype"
   ],
   "id": "7885ef3f0626ef95",
   "outputs": [
    {
     "data": {
      "text/plain": [
       "torch.int64"
      ]
     },
     "execution_count": 141,
     "metadata": {},
     "output_type": "execute_result"
    }
   ],
   "execution_count": 141
  },
  {
   "metadata": {
    "ExecuteTime": {
     "end_time": "2024-08-04T13:36:23.377446Z",
     "start_time": "2024-08-04T13:36:23.372209Z"
    }
   },
   "cell_type": "code",
   "source": [
    "# Get tensor elements by index\n",
    "TENSOR[0]"
   ],
   "id": "4b11411950372f25",
   "outputs": [
    {
     "data": {
      "text/plain": [
       "tensor([[1, 2, 3, 4, 5],\n",
       "        [1, 2, 3, 4, 5]])"
      ]
     },
     "execution_count": 142,
     "metadata": {},
     "output_type": "execute_result"
    }
   ],
   "execution_count": 142
  },
  {
   "metadata": {
    "ExecuteTime": {
     "end_time": "2024-08-04T13:36:23.410724Z",
     "start_time": "2024-08-04T13:36:23.405857Z"
    }
   },
   "cell_type": "code",
   "source": "TENSOR[0][0]",
   "id": "705003c298934e29",
   "outputs": [
    {
     "data": {
      "text/plain": [
       "tensor([1, 2, 3, 4, 5])"
      ]
     },
     "execution_count": 143,
     "metadata": {},
     "output_type": "execute_result"
    }
   ],
   "execution_count": 143
  },
  {
   "metadata": {
    "ExecuteTime": {
     "end_time": "2024-08-04T13:36:23.446451Z",
     "start_time": "2024-08-04T13:36:23.441735Z"
    }
   },
   "cell_type": "code",
   "source": "TENSOR[0][1][0]",
   "id": "df1599fb6f899ded",
   "outputs": [
    {
     "data": {
      "text/plain": [
       "tensor(1)"
      ]
     },
     "execution_count": 144,
     "metadata": {},
     "output_type": "execute_result"
    }
   ],
   "execution_count": 144
  }
 ],
 "metadata": {
  "kernelspec": {
   "display_name": "Python 3",
   "language": "python",
   "name": "python3"
  },
  "language_info": {
   "codemirror_mode": {
    "name": "ipython",
    "version": 2
   },
   "file_extension": ".py",
   "mimetype": "text/x-python",
   "name": "python",
   "nbconvert_exporter": "python",
   "pygments_lexer": "ipython2",
   "version": "2.7.6"
  }
 },
 "nbformat": 4,
 "nbformat_minor": 5
}
