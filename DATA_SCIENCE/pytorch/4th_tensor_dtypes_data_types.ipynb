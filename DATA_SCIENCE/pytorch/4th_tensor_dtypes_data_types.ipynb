{
 "cells": [
  {
   "cell_type": "code",
   "id": "f0e11e606a9851ef",
   "metadata": {
    "collapsed": true,
    "ExecuteTime": {
     "end_time": "2024-08-05T12:03:42.825458Z",
     "start_time": "2024-08-05T12:03:42.822654Z"
    }
   },
   "source": "import torch",
   "outputs": [],
   "execution_count": 14
  },
  {
   "metadata": {},
   "cell_type": "markdown",
   "source": [
    "https://en.wikipedia.org/wiki/Precision_(computer_science)\n",
    "\n",
    "torch.float16: 16-bit floating-point (half).\n",
    "\n",
    "torch.float32: 32-bit floating-point (float).\n",
    "\n",
    "torch.float64: 64-bit floating-point (double).\n",
    "\n",
    "torch.int8: 8-bit signed integer (byte).\n",
    "\n",
    "torch.int16: 16-bit signed integer (short).\n",
    "\n",
    "torch.int32: 32-bit signed integer (int).\n",
    "\n",
    "torch.int64: 64-bit signed integer (long).\n",
    "\n",
    "torch.uint8: 8-bit unsigned integer (byte) (cannot be negative).\n",
    "\n",
    "torch.uint16: 16-bit unsigned integer (short) (cannot be negative).\n",
    "\n",
    "torch.bool: Boolean (True/False).\n",
    "\n",
    "Common Problem: dtype Mismatch ->\n",
    "Description: Errors occur when operations or model layers receive inputs with different data types (dtypes). For example, if a tensor of type float32 is used with a model expecting float64, or if operations between tensors of different types are performed, it can lead to runtime errors or unexpected behavior."
   ],
   "id": "87c093f4c4f39098"
  },
  {
   "metadata": {
    "ExecuteTime": {
     "end_time": "2024-08-05T12:03:42.855115Z",
     "start_time": "2024-08-05T12:03:42.848656Z"
    }
   },
   "cell_type": "code",
   "source": [
    "float_32 = torch.tensor([1., 2., 3.], \n",
    "                        dtype=None, # type of tensor\n",
    "                        device=None, # what device tensor is on\n",
    "                        requires_grad=False) # track or not gradients with tensor operations\n",
    "float_32"
   ],
   "id": "e4080682c228d63b",
   "outputs": [
    {
     "data": {
      "text/plain": [
       "tensor([1., 2., 3.])"
      ]
     },
     "execution_count": 15,
     "metadata": {},
     "output_type": "execute_result"
    }
   ],
   "execution_count": 15
  },
  {
   "metadata": {
    "ExecuteTime": {
     "end_time": "2024-08-05T12:03:42.862357Z",
     "start_time": "2024-08-05T12:03:42.857122Z"
    }
   },
   "cell_type": "code",
   "source": [
    "# Default dtype is float32, even if you type None\n",
    "float_32.dtype"
   ],
   "id": "dc415b2b8476cc14",
   "outputs": [
    {
     "data": {
      "text/plain": [
       "torch.float32"
      ]
     },
     "execution_count": 16,
     "metadata": {},
     "output_type": "execute_result"
    }
   ],
   "execution_count": 16
  },
  {
   "metadata": {
    "ExecuteTime": {
     "end_time": "2024-08-05T12:03:42.871880Z",
     "start_time": "2024-08-05T12:03:42.864369Z"
    }
   },
   "cell_type": "code",
   "source": [
    "# Converts a tensor with data type float32 to a tensor with data type float16\n",
    "float_16 = float_32.type(torch.float16)\n",
    "float_16"
   ],
   "id": "3c37f4c512fed89b",
   "outputs": [
    {
     "data": {
      "text/plain": [
       "tensor([1., 2., 3.], dtype=torch.float16)"
      ]
     },
     "execution_count": 17,
     "metadata": {},
     "output_type": "execute_result"
    }
   ],
   "execution_count": 17
  }
 ],
 "metadata": {
  "kernelspec": {
   "display_name": "Python 3",
   "language": "python",
   "name": "python3"
  },
  "language_info": {
   "codemirror_mode": {
    "name": "ipython",
    "version": 2
   },
   "file_extension": ".py",
   "mimetype": "text/x-python",
   "name": "python",
   "nbconvert_exporter": "python",
   "pygments_lexer": "ipython2",
   "version": "2.7.6"
  }
 },
 "nbformat": 4,
 "nbformat_minor": 5
}
