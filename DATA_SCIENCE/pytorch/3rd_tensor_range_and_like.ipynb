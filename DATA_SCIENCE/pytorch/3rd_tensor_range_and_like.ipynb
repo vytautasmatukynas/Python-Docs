{
 "cells": [
  {
   "cell_type": "code",
   "id": "f65a332bc557f881",
   "metadata": {
    "collapsed": true,
    "ExecuteTime": {
     "end_time": "2024-08-05T07:59:36.526315Z",
     "start_time": "2024-08-05T07:59:36.523368Z"
    }
   },
   "source": "import torch",
   "outputs": [],
   "execution_count": 9
  },
  {
   "metadata": {},
   "cell_type": "markdown",
   "source": [
    "torch.arange: Creates a tensor with a sequence of numbers from start to end (exclusive) with a specified step.\n",
    "\n",
    "torch.zeros_like: Creates a tensor of zeros with the same shape and dtype as the given tensor.\n",
    "\n",
    "torch.ones_like: Creates a tensor of ones with the same shape and dtype as the given tensor."
   ],
   "id": "e53f870327ea5144"
  },
  {
   "metadata": {
    "ExecuteTime": {
     "end_time": "2024-08-05T07:59:36.540749Z",
     "start_time": "2024-08-05T07:59:36.535837Z"
    }
   },
   "cell_type": "code",
   "source": [
    "# Create tensor in range(start, end, step)\n",
    "in_range = torch.arange(1, 22, 2)\n",
    "in_range"
   ],
   "id": "ac1f377eb993ad88",
   "outputs": [
    {
     "data": {
      "text/plain": [
       "tensor([ 1,  3,  5,  7,  9, 11, 13, 15, 17, 19, 21])"
      ]
     },
     "execution_count": 10,
     "metadata": {},
     "output_type": "execute_result"
    }
   ],
   "execution_count": 10
  },
  {
   "metadata": {
    "ExecuteTime": {
     "end_time": "2024-08-05T07:59:36.566084Z",
     "start_time": "2024-08-05T07:59:36.560058Z"
    }
   },
   "cell_type": "code",
   "source": [
    "in_range_2 = torch.arange(start=2, end=24, step=5)\n",
    "in_range_2"
   ],
   "id": "941b7b743c528ae",
   "outputs": [
    {
     "data": {
      "text/plain": [
       "tensor([ 2,  7, 12, 17, 22])"
      ]
     },
     "execution_count": 11,
     "metadata": {},
     "output_type": "execute_result"
    }
   ],
   "execution_count": 11
  },
  {
   "metadata": {
    "ExecuteTime": {
     "end_time": "2024-08-05T07:59:36.576113Z",
     "start_time": "2024-08-05T07:59:36.569092Z"
    }
   },
   "cell_type": "code",
   "source": [
    "# Create tensor like (replicate tensor shape)\n",
    "replicate_tensor_zeros = torch.zeros_like(input=in_range)\n",
    "replicate_tensor_zeros"
   ],
   "id": "75fa64c1d9290d9b",
   "outputs": [
    {
     "data": {
      "text/plain": [
       "tensor([0, 0, 0, 0, 0, 0, 0, 0, 0, 0, 0])"
      ]
     },
     "execution_count": 12,
     "metadata": {},
     "output_type": "execute_result"
    }
   ],
   "execution_count": 12
  },
  {
   "metadata": {
    "ExecuteTime": {
     "end_time": "2024-08-05T07:59:36.584051Z",
     "start_time": "2024-08-05T07:59:36.578128Z"
    }
   },
   "cell_type": "code",
   "source": [
    "replicate_tensor_zeros = torch.ones_like(input=in_range)\n",
    "replicate_tensor_zeros"
   ],
   "id": "1eddc480b251e632",
   "outputs": [
    {
     "data": {
      "text/plain": [
       "tensor([1, 1, 1, 1, 1, 1, 1, 1, 1, 1, 1])"
      ]
     },
     "execution_count": 13,
     "metadata": {},
     "output_type": "execute_result"
    }
   ],
   "execution_count": 13
  }
 ],
 "metadata": {
  "kernelspec": {
   "display_name": "Python 3",
   "language": "python",
   "name": "python3"
  },
  "language_info": {
   "codemirror_mode": {
    "name": "ipython",
    "version": 2
   },
   "file_extension": ".py",
   "mimetype": "text/x-python",
   "name": "python",
   "nbconvert_exporter": "python",
   "pygments_lexer": "ipython2",
   "version": "2.7.6"
  }
 },
 "nbformat": 4,
 "nbformat_minor": 5
}
