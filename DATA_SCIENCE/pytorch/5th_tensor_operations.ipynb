{
 "cells": [
  {
   "cell_type": "code",
   "id": "b0bfd77771c5593b",
   "metadata": {
    "collapsed": true,
    "ExecuteTime": {
     "end_time": "2024-08-06T12:58:35.045890Z",
     "start_time": "2024-08-06T12:58:35.042817Z"
    }
   },
   "source": "import torch",
   "outputs": [],
   "execution_count": 392
  },
  {
   "metadata": {},
   "cell_type": "markdown",
   "source": [
    "https://lt.wikipedia.org/wiki/Matrica_(matematika)\n",
    "\n",
    "Addition: result = tensor1 + tensor2 or result = torch.add(tensor1, tensor2) or tensor1 + number\n",
    "\n",
    "Subtraction: result = tensor1 - tensor2 or result = torch.sub(tensor1, tensor2) or tensor1 + number\n",
    "\n",
    "Multiplication: result = tensor1 * tensor2 or result = torch.mul(tensor1, tensor2) or tensor1 * number <- Element by Element\n",
    "\n",
    "Division: result = tensor1 / tensor2 or result = torch.div(tensor1, tensor2) or tensor1 / number <- Element by Element\n",
    "\n",
    "Matrix Multiplication: result = torch.matmul(tensor1, tensor2) or using @ operator in Python 3.5+: result = tensor1 @ tensor2\n",
    "\n",
    "Matrix Division: doesn't have."
   ],
   "id": "18804e11a3779437"
  },
  {
   "metadata": {
    "ExecuteTime": {
     "end_time": "2024-08-06T12:58:35.140827Z",
     "start_time": "2024-08-06T12:58:35.137223Z"
    }
   },
   "cell_type": "code",
   "source": [
    "first_tensor = torch.tensor([[1, 2], \n",
    "                             [3, 4]])\n",
    "second_tensor = torch.tensor([[5, 6], \n",
    "                              [7, 8]])"
   ],
   "id": "d9da4889cf48f0bd",
   "outputs": [],
   "execution_count": 393
  },
  {
   "metadata": {
    "ExecuteTime": {
     "end_time": "2024-08-06T12:58:35.148594Z",
     "start_time": "2024-08-06T12:58:35.142837Z"
    }
   },
   "cell_type": "code",
   "source": [
    "# Subtraction\n",
    "first_tensor - 10, torch.sub(first_tensor, 10)"
   ],
   "id": "7a7128e435d07df3",
   "outputs": [
    {
     "data": {
      "text/plain": [
       "(tensor([[-9, -8],\n",
       "         [-7, -6]]),\n",
       " tensor([[-9, -8],\n",
       "         [-7, -6]]))"
      ]
     },
     "execution_count": 394,
     "metadata": {},
     "output_type": "execute_result"
    }
   ],
   "execution_count": 394
  },
  {
   "metadata": {
    "ExecuteTime": {
     "end_time": "2024-08-06T12:58:35.160559Z",
     "start_time": "2024-08-06T12:58:35.154629Z"
    }
   },
   "cell_type": "code",
   "source": "first_tensor + second_tensor, torch.add(first_tensor, second_tensor)",
   "id": "bb803b1850dd8302",
   "outputs": [
    {
     "data": {
      "text/plain": [
       "(tensor([[ 6,  8],\n",
       "         [10, 12]]),\n",
       " tensor([[ 6,  8],\n",
       "         [10, 12]]))"
      ]
     },
     "execution_count": 395,
     "metadata": {},
     "output_type": "execute_result"
    }
   ],
   "execution_count": 395
  },
  {
   "metadata": {
    "ExecuteTime": {
     "end_time": "2024-08-06T12:58:35.171264Z",
     "start_time": "2024-08-06T12:58:35.165567Z"
    }
   },
   "cell_type": "code",
   "source": [
    "# Addition\n",
    "first_tensor + 10, torch.add(first_tensor, 10)"
   ],
   "id": "1b9fd8f45fb6c3df",
   "outputs": [
    {
     "data": {
      "text/plain": [
       "(tensor([[11, 12],\n",
       "         [13, 14]]),\n",
       " tensor([[11, 12],\n",
       "         [13, 14]]))"
      ]
     },
     "execution_count": 396,
     "metadata": {},
     "output_type": "execute_result"
    }
   ],
   "execution_count": 396
  },
  {
   "metadata": {
    "ExecuteTime": {
     "end_time": "2024-08-06T12:58:35.179055Z",
     "start_time": "2024-08-06T12:58:35.173273Z"
    }
   },
   "cell_type": "code",
   "source": "torch.add(first_tensor, second_tensor)",
   "id": "534b00c707382fa6",
   "outputs": [
    {
     "data": {
      "text/plain": [
       "tensor([[ 6,  8],\n",
       "        [10, 12]])"
      ]
     },
     "execution_count": 397,
     "metadata": {},
     "output_type": "execute_result"
    }
   ],
   "execution_count": 397
  },
  {
   "metadata": {
    "ExecuteTime": {
     "end_time": "2024-08-06T12:58:35.192367Z",
     "start_time": "2024-08-06T12:58:35.186063Z"
    }
   },
   "cell_type": "code",
   "source": [
    "# Multiplication (Element by Element)\n",
    "first_tensor * 10, torch.mul(first_tensor, 10)"
   ],
   "id": "c98409ae2241f67e",
   "outputs": [
    {
     "data": {
      "text/plain": [
       "(tensor([[10, 20],\n",
       "         [30, 40]]),\n",
       " tensor([[10, 20],\n",
       "         [30, 40]]))"
      ]
     },
     "execution_count": 398,
     "metadata": {},
     "output_type": "execute_result"
    }
   ],
   "execution_count": 398
  },
  {
   "metadata": {
    "ExecuteTime": {
     "end_time": "2024-08-06T12:58:35.248512Z",
     "start_time": "2024-08-06T12:58:35.243386Z"
    }
   },
   "cell_type": "code",
   "source": "torch.mul(first_tensor, second_tensor)",
   "id": "2404e7f23fa59be5",
   "outputs": [
    {
     "data": {
      "text/plain": [
       "tensor([[ 5, 12],\n",
       "        [21, 32]])"
      ]
     },
     "execution_count": 399,
     "metadata": {},
     "output_type": "execute_result"
    }
   ],
   "execution_count": 399
  },
  {
   "metadata": {
    "ExecuteTime": {
     "end_time": "2024-08-06T12:58:35.263355Z",
     "start_time": "2024-08-06T12:58:35.256518Z"
    }
   },
   "cell_type": "code",
   "source": [
    "# Division (Element by Element)\n",
    "first_tensor / 10, torch.div(first_tensor, 10)"
   ],
   "id": "3208765cb517f327",
   "outputs": [
    {
     "data": {
      "text/plain": [
       "(tensor([[0.1000, 0.2000],\n",
       "         [0.3000, 0.4000]]),\n",
       " tensor([[0.1000, 0.2000],\n",
       "         [0.3000, 0.4000]]))"
      ]
     },
     "execution_count": 400,
     "metadata": {},
     "output_type": "execute_result"
    }
   ],
   "execution_count": 400
  },
  {
   "metadata": {
    "ExecuteTime": {
     "end_time": "2024-08-06T12:58:35.270307Z",
     "start_time": "2024-08-06T12:58:35.265360Z"
    }
   },
   "cell_type": "code",
   "source": "torch.div(first_tensor, second_tensor)",
   "id": "a2a4b334df23a8eb",
   "outputs": [
    {
     "data": {
      "text/plain": [
       "tensor([[0.2000, 0.3333],\n",
       "        [0.4286, 0.5000]])"
      ]
     },
     "execution_count": 401,
     "metadata": {},
     "output_type": "execute_result"
    }
   ],
   "execution_count": 401
  },
  {
   "metadata": {},
   "cell_type": "markdown",
   "source": [
    "Matrix multiplication sample\n",
    "\n",
    "A = [3 1,\n",
    "     2 1,\n",
    "     1 0]\n",
    "    \n",
    "B = [1 0 2,\n",
    "    -1 3 1]\n",
    "\n",
    "C = A x B\n",
    "\n",
    "(3×1)+(1×−1) = 3−1 = 2\n",
    "(3×0)+(1×3) = 0+3 = 3\n",
    "(3×2)+(1×1) = 6+1 = 7\n",
    "\n",
    "(2×1)+(1×−1) = 2−1 = 1\n",
    "(2×0)+(1×3) = 0+3 = 3\n",
    "(2×2)+(1×1) = 4+1 = 5\n",
    "\n",
    "(1×1)+(0×−1) = 1+0 = 1\n",
    "(1×0)+(0×3) = 0+0 = 0\n",
    "(1×2)+(0×1) = 2+0 = 2\n",
    "\n",
    "C = [2 3 7,\n",
    "     1 3 5,\n",
    "     1 0 2]"
   ],
   "id": "dc5c58984a649e1f"
  },
  {
   "metadata": {
    "ExecuteTime": {
     "end_time": "2024-08-06T12:58:35.276358Z",
     "start_time": "2024-08-06T12:58:35.271319Z"
    }
   },
   "cell_type": "code",
   "source": [
    "# Matrix Multiplication\n",
    "first_tensor @ second_tensor, torch.matmul(first_tensor, second_tensor)"
   ],
   "id": "ca790323515f23ed",
   "outputs": [
    {
     "data": {
      "text/plain": [
       "(tensor([[19, 22],\n",
       "         [43, 50]]),\n",
       " tensor([[19, 22],\n",
       "         [43, 50]]))"
      ]
     },
     "execution_count": 402,
     "metadata": {},
     "output_type": "execute_result"
    }
   ],
   "execution_count": 402
  },
  {
   "metadata": {
    "ExecuteTime": {
     "end_time": "2024-08-06T12:58:35.286599Z",
     "start_time": "2024-08-06T12:58:35.281365Z"
    }
   },
   "cell_type": "code",
   "source": [
    "# Can only multiply matrices that the number of columns in the first matrix must equal the number of rows in the second matrix\n",
    "torch.rand(3, 2) @ torch.rand(2, 3)"
   ],
   "id": "37e6c6a670d22e7b",
   "outputs": [
    {
     "data": {
      "text/plain": [
       "tensor([[0.4452, 0.1523, 0.4762],\n",
       "        [0.2576, 0.1179, 0.2752],\n",
       "        [0.2902, 0.0251, 0.3114]])"
      ]
     },
     "execution_count": 403,
     "metadata": {},
     "output_type": "execute_result"
    }
   ],
   "execution_count": 403
  },
  {
   "metadata": {
    "ExecuteTime": {
     "end_time": "2024-08-06T12:58:35.346885Z",
     "start_time": "2024-08-06T12:58:35.327902Z"
    }
   },
   "cell_type": "code",
   "source": "torch.rand(3, 2) @ torch.rand(3, 2)",
   "id": "4e58f1073a27d95",
   "outputs": [
    {
     "ename": "RuntimeError",
     "evalue": "mat1 and mat2 shapes cannot be multiplied (3x2 and 3x2)",
     "output_type": "error",
     "traceback": [
      "\u001B[1;31m---------------------------------------------------------------------------\u001B[0m",
      "\u001B[1;31mRuntimeError\u001B[0m                              Traceback (most recent call last)",
      "Cell \u001B[1;32mIn[404], line 1\u001B[0m\n\u001B[1;32m----> 1\u001B[0m \u001B[43mtorch\u001B[49m\u001B[38;5;241;43m.\u001B[39;49m\u001B[43mrand\u001B[49m\u001B[43m(\u001B[49m\u001B[38;5;241;43m3\u001B[39;49m\u001B[43m,\u001B[49m\u001B[43m \u001B[49m\u001B[38;5;241;43m2\u001B[39;49m\u001B[43m)\u001B[49m\u001B[43m \u001B[49m\u001B[38;5;241;43m@\u001B[39;49m\u001B[43m \u001B[49m\u001B[43mtorch\u001B[49m\u001B[38;5;241;43m.\u001B[39;49m\u001B[43mrand\u001B[49m\u001B[43m(\u001B[49m\u001B[38;5;241;43m3\u001B[39;49m\u001B[43m,\u001B[49m\u001B[43m \u001B[49m\u001B[38;5;241;43m2\u001B[39;49m\u001B[43m)\u001B[49m\n",
      "\u001B[1;31mRuntimeError\u001B[0m: mat1 and mat2 shapes cannot be multiplied (3x2 and 3x2)"
     ]
    }
   ],
   "execution_count": 404
  },
  {
   "metadata": {
    "ExecuteTime": {
     "end_time": "2024-08-06T12:58:35.354505Z",
     "start_time": "2024-08-06T12:58:35.348895Z"
    }
   },
   "cell_type": "code",
   "source": [
    "# To multiply tensors, if one tensor has a shape like (3, 3, 2), the other tensor must also have the same number of matrices in the first dimension. In this case, both tensors should have a shape of (3, X, Y) where X and Y can be different, but X must match the second-to-last dimension of the first tensor.\n",
    "torch.rand(3, 3, 2) @ torch.rand(3, 2, 3)"
   ],
   "id": "55b44022f930cd58",
   "outputs": [
    {
     "data": {
      "text/plain": [
       "tensor([[[0.2789, 0.5253, 0.5152],\n",
       "         [0.2070, 0.3914, 0.4042],\n",
       "         [0.0892, 0.1698, 0.1920]],\n",
       "\n",
       "        [[1.2262, 0.8357, 0.5085],\n",
       "         [1.1119, 0.8349, 0.6133],\n",
       "         [0.8598, 0.6761, 0.5345]],\n",
       "\n",
       "        [[0.1534, 0.9700, 0.4605],\n",
       "         [0.1360, 0.4759, 0.3529],\n",
       "         [0.1581, 0.8837, 0.4578]]])"
      ]
     },
     "execution_count": 405,
     "metadata": {},
     "output_type": "execute_result"
    }
   ],
   "execution_count": 405
  },
  {
   "metadata": {
    "ExecuteTime": {
     "end_time": "2024-08-06T12:58:35.379902Z",
     "start_time": "2024-08-06T12:58:35.363512Z"
    }
   },
   "cell_type": "code",
   "source": "torch.rand(3, 3, 2) @ torch.rand(4, 2, 3)",
   "id": "80e33b75e64b35fa",
   "outputs": [
    {
     "ename": "RuntimeError",
     "evalue": "The size of tensor a (3) must match the size of tensor b (4) at non-singleton dimension 0",
     "output_type": "error",
     "traceback": [
      "\u001B[1;31m---------------------------------------------------------------------------\u001B[0m",
      "\u001B[1;31mRuntimeError\u001B[0m                              Traceback (most recent call last)",
      "Cell \u001B[1;32mIn[406], line 1\u001B[0m\n\u001B[1;32m----> 1\u001B[0m \u001B[43mtorch\u001B[49m\u001B[38;5;241;43m.\u001B[39;49m\u001B[43mrand\u001B[49m\u001B[43m(\u001B[49m\u001B[38;5;241;43m3\u001B[39;49m\u001B[43m,\u001B[49m\u001B[43m \u001B[49m\u001B[38;5;241;43m3\u001B[39;49m\u001B[43m,\u001B[49m\u001B[43m \u001B[49m\u001B[38;5;241;43m2\u001B[39;49m\u001B[43m)\u001B[49m\u001B[43m \u001B[49m\u001B[38;5;241;43m@\u001B[39;49m\u001B[43m \u001B[49m\u001B[43mtorch\u001B[49m\u001B[38;5;241;43m.\u001B[39;49m\u001B[43mrand\u001B[49m\u001B[43m(\u001B[49m\u001B[38;5;241;43m4\u001B[39;49m\u001B[43m,\u001B[49m\u001B[43m \u001B[49m\u001B[38;5;241;43m2\u001B[39;49m\u001B[43m,\u001B[49m\u001B[43m \u001B[49m\u001B[38;5;241;43m3\u001B[39;49m\u001B[43m)\u001B[49m\n",
      "\u001B[1;31mRuntimeError\u001B[0m: The size of tensor a (3) must match the size of tensor b (4) at non-singleton dimension 0"
     ]
    }
   ],
   "execution_count": 406
  },
  {
   "metadata": {
    "ExecuteTime": {
     "end_time": "2024-08-06T12:58:35.434245Z",
     "start_time": "2024-08-06T12:58:35.427032Z"
    }
   },
   "cell_type": "code",
   "source": [
    "# Fix shape error\n",
    "# Switch axes or dimensions of tensor (transpose)\n",
    "tensor_A = torch.tensor([[1, 2], \n",
    "                         [3, 4],\n",
    "                         [5, 6]])\n",
    "\n",
    "tensor_B = torch.tensor([[5, 6], \n",
    "                         [7, 8], \n",
    "                         [9, 10]])\n",
    "\n",
    "tensor_A, tensor_A.T"
   ],
   "id": "155ddf70a4c4ab71",
   "outputs": [
    {
     "data": {
      "text/plain": [
       "(tensor([[1, 2],\n",
       "         [3, 4],\n",
       "         [5, 6]]),\n",
       " tensor([[1, 3, 5],\n",
       "         [2, 4, 6]]))"
      ]
     },
     "execution_count": 407,
     "metadata": {},
     "output_type": "execute_result"
    }
   ],
   "execution_count": 407
  },
  {
   "metadata": {
    "ExecuteTime": {
     "end_time": "2024-08-06T12:58:35.504693Z",
     "start_time": "2024-08-06T12:58:35.499106Z"
    }
   },
   "cell_type": "code",
   "source": "tensor_A.shape, tensor_A.T.shape",
   "id": "861d00e477b7b63a",
   "outputs": [
    {
     "data": {
      "text/plain": [
       "(torch.Size([3, 2]), torch.Size([2, 3]))"
      ]
     },
     "execution_count": 408,
     "metadata": {},
     "output_type": "execute_result"
    }
   ],
   "execution_count": 408
  },
  {
   "metadata": {
    "ExecuteTime": {
     "end_time": "2024-08-06T12:58:35.595474Z",
     "start_time": "2024-08-06T12:58:35.589995Z"
    }
   },
   "cell_type": "code",
   "source": [
    "# Change tensor_A shape \"tensor_A.T\"\n",
    "torch.matmul(tensor_A.T, tensor_B), "
   ],
   "id": "f88083513e88cf0",
   "outputs": [
    {
     "data": {
      "text/plain": [
       "(tensor([[ 71,  80],\n",
       "         [ 92, 104]]),)"
      ]
     },
     "execution_count": 409,
     "metadata": {},
     "output_type": "execute_result"
    }
   ],
   "execution_count": 409
  },
  {
   "metadata": {
    "ExecuteTime": {
     "end_time": "2024-08-06T12:58:35.624219Z",
     "start_time": "2024-08-06T12:58:35.610518Z"
    }
   },
   "cell_type": "code",
   "source": [
    "# Didn't change tensor_A shape and got error\n",
    "torch.matmul(tensor_A, tensor_B)"
   ],
   "id": "78f266b39ca163d",
   "outputs": [
    {
     "ename": "RuntimeError",
     "evalue": "mat1 and mat2 shapes cannot be multiplied (3x2 and 3x2)",
     "output_type": "error",
     "traceback": [
      "\u001B[1;31m---------------------------------------------------------------------------\u001B[0m",
      "\u001B[1;31mRuntimeError\u001B[0m                              Traceback (most recent call last)",
      "Cell \u001B[1;32mIn[410], line 2\u001B[0m\n\u001B[0;32m      1\u001B[0m \u001B[38;5;66;03m# Didn't change tensor_A shape and got error\u001B[39;00m\n\u001B[1;32m----> 2\u001B[0m \u001B[43mtorch\u001B[49m\u001B[38;5;241;43m.\u001B[39;49m\u001B[43mmatmul\u001B[49m\u001B[43m(\u001B[49m\u001B[43mtensor_A\u001B[49m\u001B[43m,\u001B[49m\u001B[43m \u001B[49m\u001B[43mtensor_B\u001B[49m\u001B[43m)\u001B[49m\n",
      "\u001B[1;31mRuntimeError\u001B[0m: mat1 and mat2 shapes cannot be multiplied (3x2 and 3x2)"
     ]
    }
   ],
   "execution_count": 410
  }
 ],
 "metadata": {
  "kernelspec": {
   "display_name": "Python 3",
   "language": "python",
   "name": "python3"
  },
  "language_info": {
   "codemirror_mode": {
    "name": "ipython",
    "version": 2
   },
   "file_extension": ".py",
   "mimetype": "text/x-python",
   "name": "python",
   "nbconvert_exporter": "python",
   "pygments_lexer": "ipython2",
   "version": "2.7.6"
  }
 },
 "nbformat": 4,
 "nbformat_minor": 5
}
