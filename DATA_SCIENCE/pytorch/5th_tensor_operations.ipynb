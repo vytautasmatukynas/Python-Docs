{
 "cells": [
  {
   "cell_type": "code",
   "id": "b0bfd77771c5593b",
   "metadata": {
    "collapsed": true,
    "ExecuteTime": {
     "end_time": "2024-08-06T12:42:10.816492Z",
     "start_time": "2024-08-06T12:42:10.813216Z"
    }
   },
   "source": "import torch",
   "outputs": [],
   "execution_count": 373
  },
  {
   "metadata": {},
   "cell_type": "markdown",
   "source": [
    "https://lt.wikipedia.org/wiki/Matrica_(matematika)\n",
    "\n",
    "Addition: result = tensor1 + tensor2 or result = torch.add(tensor1, tensor2) or tensor1 + number\n",
    "\n",
    "Subtraction: result = tensor1 - tensor2 or result = torch.sub(tensor1, tensor2) or tensor1 + number\n",
    "\n",
    "Multiplication: result = tensor1 * tensor2 or result = torch.mul(tensor1, tensor2) or tensor1 * number <- Element by Element\n",
    "\n",
    "Division: result = tensor1 / tensor2 or result = torch.div(tensor1, tensor2) or tensor1 / number <- Element by Element\n",
    "\n",
    "Matrix Multiplication: result = torch.matmul(tensor1, tensor2) or using @ operator in Python 3.5+: result = tensor1 @ tensor2\n",
    "\n",
    "Matrix Division: doesn't have."
   ],
   "id": "18804e11a3779437"
  },
  {
   "metadata": {
    "ExecuteTime": {
     "end_time": "2024-08-06T12:42:10.902445Z",
     "start_time": "2024-08-06T12:42:10.898031Z"
    }
   },
   "cell_type": "code",
   "source": [
    "first_tensor = torch.tensor([[1, 2], \n",
    "                             [3, 4]])\n",
    "second_tensor = torch.tensor([[5, 6], \n",
    "                              [7, 8]])"
   ],
   "id": "d9da4889cf48f0bd",
   "outputs": [],
   "execution_count": 374
  },
  {
   "metadata": {
    "ExecuteTime": {
     "end_time": "2024-08-06T12:42:10.918058Z",
     "start_time": "2024-08-06T12:42:10.911982Z"
    }
   },
   "cell_type": "code",
   "source": [
    "# Subtraction\n",
    "first_tensor - 10, torch.sub(first_tensor, 10)"
   ],
   "id": "7a7128e435d07df3",
   "outputs": [
    {
     "data": {
      "text/plain": [
       "(tensor([[-9, -8],\n",
       "         [-7, -6]]),\n",
       " tensor([[-9, -8],\n",
       "         [-7, -6]]))"
      ]
     },
     "execution_count": 375,
     "metadata": {},
     "output_type": "execute_result"
    }
   ],
   "execution_count": 375
  },
  {
   "metadata": {
    "ExecuteTime": {
     "end_time": "2024-08-06T12:42:10.927080Z",
     "start_time": "2024-08-06T12:42:10.919066Z"
    }
   },
   "cell_type": "code",
   "source": "first_tensor + second_tensor, torch.add(first_tensor, second_tensor)",
   "id": "bb803b1850dd8302",
   "outputs": [
    {
     "data": {
      "text/plain": [
       "(tensor([[ 6,  8],\n",
       "         [10, 12]]),\n",
       " tensor([[ 6,  8],\n",
       "         [10, 12]]))"
      ]
     },
     "execution_count": 376,
     "metadata": {},
     "output_type": "execute_result"
    }
   ],
   "execution_count": 376
  },
  {
   "metadata": {
    "ExecuteTime": {
     "end_time": "2024-08-06T12:42:10.933960Z",
     "start_time": "2024-08-06T12:42:10.929100Z"
    }
   },
   "cell_type": "code",
   "source": [
    "# Addition\n",
    "first_tensor + 10, torch.add(first_tensor, 10)"
   ],
   "id": "1b9fd8f45fb6c3df",
   "outputs": [
    {
     "data": {
      "text/plain": [
       "(tensor([[11, 12],\n",
       "         [13, 14]]),\n",
       " tensor([[11, 12],\n",
       "         [13, 14]]))"
      ]
     },
     "execution_count": 377,
     "metadata": {},
     "output_type": "execute_result"
    }
   ],
   "execution_count": 377
  },
  {
   "metadata": {
    "ExecuteTime": {
     "end_time": "2024-08-06T12:42:10.940881Z",
     "start_time": "2024-08-06T12:42:10.934966Z"
    }
   },
   "cell_type": "code",
   "source": "torch.add(first_tensor, second_tensor)",
   "id": "534b00c707382fa6",
   "outputs": [
    {
     "data": {
      "text/plain": [
       "tensor([[ 6,  8],\n",
       "        [10, 12]])"
      ]
     },
     "execution_count": 378,
     "metadata": {},
     "output_type": "execute_result"
    }
   ],
   "execution_count": 378
  },
  {
   "metadata": {
    "ExecuteTime": {
     "end_time": "2024-08-06T12:42:10.948417Z",
     "start_time": "2024-08-06T12:42:10.942889Z"
    }
   },
   "cell_type": "code",
   "source": [
    "# Multiplication (Element by Element)\n",
    "first_tensor * 10, torch.mul(first_tensor, 10)"
   ],
   "id": "c98409ae2241f67e",
   "outputs": [
    {
     "data": {
      "text/plain": [
       "(tensor([[10, 20],\n",
       "         [30, 40]]),\n",
       " tensor([[10, 20],\n",
       "         [30, 40]]))"
      ]
     },
     "execution_count": 379,
     "metadata": {},
     "output_type": "execute_result"
    }
   ],
   "execution_count": 379
  },
  {
   "metadata": {
    "ExecuteTime": {
     "end_time": "2024-08-06T12:42:10.963371Z",
     "start_time": "2024-08-06T12:42:10.957982Z"
    }
   },
   "cell_type": "code",
   "source": "torch.mul(first_tensor, second_tensor)",
   "id": "2404e7f23fa59be5",
   "outputs": [
    {
     "data": {
      "text/plain": [
       "tensor([[ 5, 12],\n",
       "        [21, 32]])"
      ]
     },
     "execution_count": 380,
     "metadata": {},
     "output_type": "execute_result"
    }
   ],
   "execution_count": 380
  },
  {
   "metadata": {
    "ExecuteTime": {
     "end_time": "2024-08-06T12:42:10.983161Z",
     "start_time": "2024-08-06T12:42:10.977465Z"
    }
   },
   "cell_type": "code",
   "source": [
    "# Division (Element by Element)\n",
    "first_tensor / 10, torch.div(first_tensor, 10)"
   ],
   "id": "3208765cb517f327",
   "outputs": [
    {
     "data": {
      "text/plain": [
       "(tensor([[0.1000, 0.2000],\n",
       "         [0.3000, 0.4000]]),\n",
       " tensor([[0.1000, 0.2000],\n",
       "         [0.3000, 0.4000]]))"
      ]
     },
     "execution_count": 381,
     "metadata": {},
     "output_type": "execute_result"
    }
   ],
   "execution_count": 381
  },
  {
   "metadata": {
    "ExecuteTime": {
     "end_time": "2024-08-06T12:42:11.006671Z",
     "start_time": "2024-08-06T12:42:11.000932Z"
    }
   },
   "cell_type": "code",
   "source": "torch.div(first_tensor, second_tensor)",
   "id": "2da9d9d5d3323d30",
   "outputs": [
    {
     "data": {
      "text/plain": [
       "tensor([[0.2000, 0.3333],\n",
       "        [0.4286, 0.5000]])"
      ]
     },
     "execution_count": 382,
     "metadata": {},
     "output_type": "execute_result"
    }
   ],
   "execution_count": 382
  },
  {
   "metadata": {
    "ExecuteTime": {
     "end_time": "2024-08-06T12:42:11.052666Z",
     "start_time": "2024-08-06T12:42:11.047596Z"
    }
   },
   "cell_type": "code",
   "source": [
    "# Matrix Multiplication\n",
    "first_tensor @ second_tensor, torch.matmul(first_tensor, second_tensor)"
   ],
   "id": "ca790323515f23ed",
   "outputs": [
    {
     "data": {
      "text/plain": [
       "(tensor([[19, 22],\n",
       "         [43, 50]]),\n",
       " tensor([[19, 22],\n",
       "         [43, 50]]))"
      ]
     },
     "execution_count": 383,
     "metadata": {},
     "output_type": "execute_result"
    }
   ],
   "execution_count": 383
  },
  {
   "metadata": {
    "ExecuteTime": {
     "end_time": "2024-08-06T12:42:11.069452Z",
     "start_time": "2024-08-06T12:42:11.063619Z"
    }
   },
   "cell_type": "code",
   "source": [
    "# Can only multiply matrices that the number of columns in the first matrix must equal the number of rows in the second matrix\n",
    "torch.rand(3, 2) @ torch.rand(2, 3)"
   ],
   "id": "37e6c6a670d22e7b",
   "outputs": [
    {
     "data": {
      "text/plain": [
       "tensor([[0.0916, 0.3444, 0.4103],\n",
       "        [0.2712, 1.0283, 1.1994],\n",
       "        [0.2038, 0.8696, 0.7183]])"
      ]
     },
     "execution_count": 384,
     "metadata": {},
     "output_type": "execute_result"
    }
   ],
   "execution_count": 384
  },
  {
   "metadata": {
    "ExecuteTime": {
     "end_time": "2024-08-06T12:42:11.116288Z",
     "start_time": "2024-08-06T12:42:11.096191Z"
    }
   },
   "cell_type": "code",
   "source": "torch.rand(3, 2) @ torch.rand(3, 2)",
   "id": "4e58f1073a27d95",
   "outputs": [
    {
     "ename": "RuntimeError",
     "evalue": "mat1 and mat2 shapes cannot be multiplied (3x2 and 3x2)",
     "output_type": "error",
     "traceback": [
      "\u001B[1;31m---------------------------------------------------------------------------\u001B[0m",
      "\u001B[1;31mRuntimeError\u001B[0m                              Traceback (most recent call last)",
      "Cell \u001B[1;32mIn[385], line 1\u001B[0m\n\u001B[1;32m----> 1\u001B[0m \u001B[43mtorch\u001B[49m\u001B[38;5;241;43m.\u001B[39;49m\u001B[43mrand\u001B[49m\u001B[43m(\u001B[49m\u001B[38;5;241;43m3\u001B[39;49m\u001B[43m,\u001B[49m\u001B[43m \u001B[49m\u001B[38;5;241;43m2\u001B[39;49m\u001B[43m)\u001B[49m\u001B[43m \u001B[49m\u001B[38;5;241;43m@\u001B[39;49m\u001B[43m \u001B[49m\u001B[43mtorch\u001B[49m\u001B[38;5;241;43m.\u001B[39;49m\u001B[43mrand\u001B[49m\u001B[43m(\u001B[49m\u001B[38;5;241;43m3\u001B[39;49m\u001B[43m,\u001B[49m\u001B[43m \u001B[49m\u001B[38;5;241;43m2\u001B[39;49m\u001B[43m)\u001B[49m\n",
      "\u001B[1;31mRuntimeError\u001B[0m: mat1 and mat2 shapes cannot be multiplied (3x2 and 3x2)"
     ]
    }
   ],
   "execution_count": 385
  },
  {
   "metadata": {
    "ExecuteTime": {
     "end_time": "2024-08-06T12:42:11.131984Z",
     "start_time": "2024-08-06T12:42:11.125819Z"
    }
   },
   "cell_type": "code",
   "source": [
    "# To multiply tensors, if one tensor has a shape like (3, 3, 2), the other tensor must also have the same number of matrices in the first dimension. In this case, both tensors should have a shape of (3, X, Y) where X and Y can be different, but X must match the second-to-last dimension of the first tensor.\n",
    "torch.rand(3, 3, 2) @ torch.rand(3, 2, 3)"
   ],
   "id": "55b44022f930cd58",
   "outputs": [
    {
     "data": {
      "text/plain": [
       "tensor([[[0.2368, 0.1804, 0.5335],\n",
       "         [0.5269, 0.8174, 1.3786],\n",
       "         [0.1903, 0.4464, 0.5676]],\n",
       "\n",
       "        [[0.4530, 0.1870, 0.0621],\n",
       "         [1.2041, 0.7204, 0.1374],\n",
       "         [0.0744, 0.0634, 0.0061]],\n",
       "\n",
       "        [[0.2102, 0.2696, 0.3354],\n",
       "         [0.0870, 0.1813, 0.2964],\n",
       "         [0.3404, 0.2872, 0.2053]]])"
      ]
     },
     "execution_count": 386,
     "metadata": {},
     "output_type": "execute_result"
    }
   ],
   "execution_count": 386
  },
  {
   "metadata": {
    "ExecuteTime": {
     "end_time": "2024-08-06T12:42:11.218165Z",
     "start_time": "2024-08-06T12:42:11.200348Z"
    }
   },
   "cell_type": "code",
   "source": "torch.rand(3, 3, 2) @ torch.rand(4, 2, 3)",
   "id": "80e33b75e64b35fa",
   "outputs": [
    {
     "ename": "RuntimeError",
     "evalue": "The size of tensor a (3) must match the size of tensor b (4) at non-singleton dimension 0",
     "output_type": "error",
     "traceback": [
      "\u001B[1;31m---------------------------------------------------------------------------\u001B[0m",
      "\u001B[1;31mRuntimeError\u001B[0m                              Traceback (most recent call last)",
      "Cell \u001B[1;32mIn[387], line 1\u001B[0m\n\u001B[1;32m----> 1\u001B[0m \u001B[43mtorch\u001B[49m\u001B[38;5;241;43m.\u001B[39;49m\u001B[43mrand\u001B[49m\u001B[43m(\u001B[49m\u001B[38;5;241;43m3\u001B[39;49m\u001B[43m,\u001B[49m\u001B[43m \u001B[49m\u001B[38;5;241;43m3\u001B[39;49m\u001B[43m,\u001B[49m\u001B[43m \u001B[49m\u001B[38;5;241;43m2\u001B[39;49m\u001B[43m)\u001B[49m\u001B[43m \u001B[49m\u001B[38;5;241;43m@\u001B[39;49m\u001B[43m \u001B[49m\u001B[43mtorch\u001B[49m\u001B[38;5;241;43m.\u001B[39;49m\u001B[43mrand\u001B[49m\u001B[43m(\u001B[49m\u001B[38;5;241;43m4\u001B[39;49m\u001B[43m,\u001B[49m\u001B[43m \u001B[49m\u001B[38;5;241;43m2\u001B[39;49m\u001B[43m,\u001B[49m\u001B[43m \u001B[49m\u001B[38;5;241;43m3\u001B[39;49m\u001B[43m)\u001B[49m\n",
      "\u001B[1;31mRuntimeError\u001B[0m: The size of tensor a (3) must match the size of tensor b (4) at non-singleton dimension 0"
     ]
    }
   ],
   "execution_count": 387
  },
  {
   "metadata": {
    "ExecuteTime": {
     "end_time": "2024-08-06T12:42:11.237165Z",
     "start_time": "2024-08-06T12:42:11.230687Z"
    }
   },
   "cell_type": "code",
   "source": [
    "# Fix shape error\n",
    "# Switch axes or dimensions of tensor (transpose)\n",
    "tensor_A = torch.tensor([[1, 2], \n",
    "                         [3, 4],\n",
    "                         [5, 6]])\n",
    "\n",
    "tensor_B = torch.tensor([[5, 6], \n",
    "                         [7, 8], \n",
    "                         [9, 10]])\n",
    "\n",
    "tensor_A, tensor_A.T"
   ],
   "id": "155ddf70a4c4ab71",
   "outputs": [
    {
     "data": {
      "text/plain": [
       "(tensor([[1, 2],\n",
       "         [3, 4],\n",
       "         [5, 6]]),\n",
       " tensor([[1, 3, 5],\n",
       "         [2, 4, 6]]))"
      ]
     },
     "execution_count": 388,
     "metadata": {},
     "output_type": "execute_result"
    }
   ],
   "execution_count": 388
  },
  {
   "metadata": {
    "ExecuteTime": {
     "end_time": "2024-08-06T12:42:11.245016Z",
     "start_time": "2024-08-06T12:42:11.239176Z"
    }
   },
   "cell_type": "code",
   "source": "tensor_A.shape, tensor_A.T.shape",
   "id": "861d00e477b7b63a",
   "outputs": [
    {
     "data": {
      "text/plain": [
       "(torch.Size([3, 2]), torch.Size([2, 3]))"
      ]
     },
     "execution_count": 389,
     "metadata": {},
     "output_type": "execute_result"
    }
   ],
   "execution_count": 389
  },
  {
   "metadata": {
    "ExecuteTime": {
     "end_time": "2024-08-06T12:42:11.290581Z",
     "start_time": "2024-08-06T12:42:11.284525Z"
    }
   },
   "cell_type": "code",
   "source": [
    "# Change tensor_A shape \"tensor_A.T\"\n",
    "torch.matmul(tensor_A.T, tensor_B), "
   ],
   "id": "f88083513e88cf0",
   "outputs": [
    {
     "data": {
      "text/plain": [
       "(tensor([[ 71,  80],\n",
       "         [ 92, 104]]),)"
      ]
     },
     "execution_count": 390,
     "metadata": {},
     "output_type": "execute_result"
    }
   ],
   "execution_count": 390
  },
  {
   "metadata": {
    "ExecuteTime": {
     "end_time": "2024-08-06T12:42:11.322524Z",
     "start_time": "2024-08-06T12:42:11.307108Z"
    }
   },
   "cell_type": "code",
   "source": [
    "# Didn't change tensor_A shape and got error\n",
    "torch.matmul(tensor_A, tensor_B)"
   ],
   "id": "78f266b39ca163d",
   "outputs": [
    {
     "ename": "RuntimeError",
     "evalue": "mat1 and mat2 shapes cannot be multiplied (3x2 and 3x2)",
     "output_type": "error",
     "traceback": [
      "\u001B[1;31m---------------------------------------------------------------------------\u001B[0m",
      "\u001B[1;31mRuntimeError\u001B[0m                              Traceback (most recent call last)",
      "Cell \u001B[1;32mIn[391], line 2\u001B[0m\n\u001B[0;32m      1\u001B[0m \u001B[38;5;66;03m# Didn't change tensor_A shape\u001B[39;00m\n\u001B[1;32m----> 2\u001B[0m \u001B[43mtorch\u001B[49m\u001B[38;5;241;43m.\u001B[39;49m\u001B[43mmatmul\u001B[49m\u001B[43m(\u001B[49m\u001B[43mtensor_A\u001B[49m\u001B[43m,\u001B[49m\u001B[43m \u001B[49m\u001B[43mtensor_B\u001B[49m\u001B[43m)\u001B[49m\n",
      "\u001B[1;31mRuntimeError\u001B[0m: mat1 and mat2 shapes cannot be multiplied (3x2 and 3x2)"
     ]
    }
   ],
   "execution_count": 391
  }
 ],
 "metadata": {
  "kernelspec": {
   "display_name": "Python 3",
   "language": "python",
   "name": "python3"
  },
  "language_info": {
   "codemirror_mode": {
    "name": "ipython",
    "version": 2
   },
   "file_extension": ".py",
   "mimetype": "text/x-python",
   "name": "python",
   "nbconvert_exporter": "python",
   "pygments_lexer": "ipython2",
   "version": "2.7.6"
  }
 },
 "nbformat": 4,
 "nbformat_minor": 5
}
